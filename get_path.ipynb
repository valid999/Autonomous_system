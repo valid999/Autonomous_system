{
 "cells": [
  {
   "cell_type": "markdown",
   "metadata": {},
   "source": [
    "# A Path Planning Algorithm\n",
    "A is a popular algorithm for pathfinding and graph traversal. It finds the shortest path from a starting node to a goal node by considering both the actual distance from the start and the estimated distance to the goal."
   ]
  },
  {
   "cell_type": "code",
   "execution_count": 1,
   "metadata": {},
   "outputs": [
    {
     "name": "stdout",
     "output_type": "stream",
     "text": [
      "Path found: [(0, 0), (1, 0), (2, 0), (3, 0), (4, 0), (4, 1), (4, 2), (4, 3), (4, 4)]\n"
     ]
    }
   ],
   "source": [
    "import heapq\n",
    "\n",
    "class Node:\n",
    "    def __init__(self, position, parent=None):\n",
    "        self.position = position\n",
    "        self.parent = parent\n",
    "        self.g = 0  # Distance from start node\n",
    "        self.h = 0  # Distance to goal node (heuristic)\n",
    "        self.f = 0  # Total cost\n",
    "\n",
    "    def __lt__(self, other):\n",
    "        return self.f < other.f\n",
    "\n",
    "def heuristic(a, b):\n",
    "    return abs(a[0] - b[0]) + abs(a[1] - b[1])\n",
    "\n",
    "def a_star(grid, start, goal):\n",
    "    start_node = Node(start)\n",
    "    goal_node = Node(goal)\n",
    "\n",
    "    open_list = []\n",
    "    closed_list = set()\n",
    "\n",
    "    heapq.heappush(open_list, start_node)\n",
    "\n",
    "    while open_list:\n",
    "        current_node = heapq.heappop(open_list)\n",
    "        closed_list.add(current_node.position)\n",
    "\n",
    "        if current_node.position == goal_node.position:\n",
    "            path = []\n",
    "            while current_node:\n",
    "                path.append(current_node.position)\n",
    "                current_node = current_node.parent\n",
    "            return path[::-1]\n",
    "\n",
    "        (x, y) = current_node.position\n",
    "        neighbors = [(x - 1, y), (x + 1, y), (x, y - 1), (x, y + 1)]\n",
    "\n",
    "        for next_position in neighbors:\n",
    "            (x, y) = next_position\n",
    "            if x < 0 or x >= len(grid) or y < 0 or y >= len(grid[0]) or grid[x][y] == 1:\n",
    "                continue\n",
    "\n",
    "            neighbor = Node(next_position, current_node)\n",
    "\n",
    "            if neighbor.position in closed_list:\n",
    "                continue\n",
    "\n",
    "            neighbor.g = current_node.g + 1\n",
    "            neighbor.h = heuristic(neighbor.position, goal_node.position)\n",
    "            neighbor.f = neighbor.g + neighbor.h\n",
    "\n",
    "            if add_to_open(open_list, neighbor):\n",
    "                heapq.heappush(open_list, neighbor)\n",
    "\n",
    "    return None\n",
    "\n",
    "def add_to_open(open_list, neighbor):\n",
    "    for node in open_list:\n",
    "        if neighbor.position == node.position and neighbor.g > node.g:\n",
    "            return False\n",
    "    return True\n",
    "\n",
    "# Example usage:\n",
    "grid = [\n",
    "    [0, 1, 0, 0, 0],\n",
    "    [0, 1, 0, 1, 0],\n",
    "    [0, 0, 0, 1, 0],\n",
    "    [0, 1, 1, 1, 0],\n",
    "    [0, 0, 0, 0, 0]\n",
    "]\n",
    "\n",
    "start = (0, 0)\n",
    "goal = (4, 4)\n",
    "path = a_star(grid, start, goal)\n",
    "\n",
    "if path:\n",
    "    print(\"Path found:\", path)\n",
    "else:\n",
    "    print(\"No path found\")\n"
   ]
  }
 ],
 "metadata": {
  "kernelspec": {
   "display_name": "Yolo_object",
   "language": "python",
   "name": "python3"
  },
  "language_info": {
   "codemirror_mode": {
    "name": "ipython",
    "version": 3
   },
   "file_extension": ".py",
   "mimetype": "text/x-python",
   "name": "python",
   "nbconvert_exporter": "python",
   "pygments_lexer": "ipython3",
   "version": "3.9.18"
  }
 },
 "nbformat": 4,
 "nbformat_minor": 2
}
